{
 "cells": [
  {
   "cell_type": "markdown",
   "id": "8b3620ac-4c78-4ab7-84c6-75317563f8b1",
   "metadata": {},
   "source": [
    "# Data Science Tools and Ecosystem"
   ]
  },
  {
   "cell_type": "markdown",
   "id": "b3856b6d-59b3-4459-9552-028d9a5b7286",
   "metadata": {},
   "source": [
    "# Author\n",
    "José Luis Pablo-Rodríguez"
   ]
  },
  {
   "cell_type": "markdown",
   "id": "d6930b76-08f8-4237-aa53-93ee2d21e27d",
   "metadata": {},
   "source": [
    "## In this notebook, Data Science Tools and Ecosystem are summarized."
   ]
  },
  {
   "cell_type": "markdown",
   "id": "aa3d0ba6-33f5-4ebd-8680-4ad081af935d",
   "metadata": {},
   "source": [
    "**Objectives**\n",
    "- List popular languages for Data Science\n",
    "- List common libraries in data science\n",
    "- List Data science tools\n",
    "- Exemplify how to use arithmetical codes in python\n",
    "  \n"
   ]
  },
  {
   "cell_type": "markdown",
   "id": "2ccdea8a-ba46-4491-9110-1d4ab3d62213",
   "metadata": {},
   "source": [
    "### Some of the popular languages that Data Scientists use are:"
   ]
  },
  {
   "cell_type": "markdown",
   "id": "7e11ef52-6dbe-4d9c-937f-ec64769611d7",
   "metadata": {},
   "source": [
    "1. R\n",
    "2. Python\n",
    "3. Julia"
   ]
  },
  {
   "cell_type": "markdown",
   "id": "932f5077-e858-4610-a164-89be47552c80",
   "metadata": {},
   "source": [
    "Some of the commonly used libraries used by Data Scientists include:\n",
    "1. plotly\n",
    "2. numpy\n",
    "3. pandas\n",
    "4. matplotlib"
   ]
  },
  {
   "cell_type": "markdown",
   "id": "190187ae-5f3f-486e-81e4-1822ecc57390",
   "metadata": {},
   "source": [
    "| Data science tools |\n",
    "|--------------------|\n",
    "| Jupyter Notebook   |\n",
    "| Rstudio            |\n",
    "| Visual Studio      |"
   ]
  },
  {
   "cell_type": "markdown",
   "id": "d8143cfc-84d6-4ab4-b424-f4d352dcf05c",
   "metadata": {},
   "source": [
    "### Below are a few examples of evaluating arithmetic expressions in Python"
   ]
  },
  {
   "cell_type": "code",
   "execution_count": 2,
   "id": "7a0bbddd-0a71-4461-ba57-6a2beeba7575",
   "metadata": {
    "editable": true,
    "slideshow": {
     "slide_type": ""
    },
    "tags": []
   },
   "outputs": [
    {
     "data": {
      "text/plain": [
       "17"
      ]
     },
     "execution_count": 2,
     "metadata": {},
     "output_type": "execute_result"
    }
   ],
   "source": [
    "# This a simple arithmetic expression to mutiply then add integers\n",
    "(3*4)+5"
   ]
  },
  {
   "cell_type": "code",
   "execution_count": 3,
   "id": "b9886d86-6853-44df-81e4-53497afbf086",
   "metadata": {},
   "outputs": [
    {
     "data": {
      "text/plain": [
       "3.3333333333333335"
      ]
     },
     "execution_count": 3,
     "metadata": {},
     "output_type": "execute_result"
    }
   ],
   "source": [
    "# This will convert 200 minutes to hours by diving by 60\n",
    "200/60"
   ]
  },
  {
   "cell_type": "code",
   "execution_count": null,
   "id": "baadace4-cb1f-4024-8dc8-22a5f3f1d9fd",
   "metadata": {},
   "outputs": [],
   "source": []
  }
 ],
 "metadata": {
  "kernelspec": {
   "display_name": "anaconda-panel-2023.05-py310",
   "language": "python",
   "name": "conda-env-anaconda-panel-2023.05-py310-py"
  },
  "language_info": {
   "codemirror_mode": {
    "name": "ipython",
    "version": 3
   },
   "file_extension": ".py",
   "mimetype": "text/x-python",
   "name": "python",
   "nbconvert_exporter": "python",
   "pygments_lexer": "ipython3",
   "version": "3.11.5"
  }
 },
 "nbformat": 4,
 "nbformat_minor": 5
}
